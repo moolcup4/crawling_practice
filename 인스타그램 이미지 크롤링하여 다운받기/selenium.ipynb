{
 "cells": [
  {
   "cell_type": "code",
   "execution_count": null,
   "metadata": {},
   "outputs": [],
   "source": [
    "#파이썬 인스타그램 크롤링 이미지 다운\n",
    "#검색어를 쳤을때 인스타그램의 이미지를 img폴더에 저장(스크롤 내리기 전 한 set 저장)"
   ]
  },
  {
   "cell_type": "code",
   "execution_count": 12,
   "metadata": {},
   "outputs": [
    {
     "name": "stdout",
     "output_type": "stream",
     "text": [
      "검색할 태그를 입력하세요 : 아이유\n",
      "https://www.instagram.com//p/CDV9eMShoRR/\n",
      "https://scontent-gmp1-1.cdninstagram.com/v/t51.2885-15/sh0.08/e35/c0.180.1440.1440a/s640x640/116586949_288690075566886_2591824595784220711_n.jpg?_nc_ht=scontent-gmp1-1.cdninstagram.com&_nc_cat=106&_nc_ohc=GCFheA6r1OAAX_QqlQm&oh=e62d9dec18fe2fec5edabbccae9da17a&oe=5F4FB630\n",
      "\n",
      "https://www.instagram.com//p/CDVbpg5gKIN/\n",
      "https://scontent-gmp1-1.cdninstagram.com/v/t51.2885-15/sh0.08/e35/s640x640/116532920_734499834005497_6420876009432203001_n.jpg?_nc_ht=scontent-gmp1-1.cdninstagram.com&_nc_cat=1&_nc_ohc=bKhIrRkdfQ8AX-Q5tiZ&oh=efda278fb09dd825b14a6dd21741037c&oe=5F519B83\n",
      "\n",
      "https://www.instagram.com//p/CDTQyvpHEUP/\n",
      "https://scontent-gmp1-1.cdninstagram.com/v/t51.2885-15/sh0.08/e35/s640x640/116808925_3209924812406989_8929356964673830252_n.jpg?_nc_ht=scontent-gmp1-1.cdninstagram.com&_nc_cat=101&_nc_ohc=WkdoHf87mhIAX8iuSMV&oh=b5e66b3f7e5e3c5d6ff433456576ceec&oe=5F4EB1D3\n",
      "\n",
      "https://www.instagram.com//p/CDQ8sYjpy36/\n",
      "https://scontent-gmp1-1.cdninstagram.com/v/t51.2885-15/sh0.08/e35/c0.90.720.720a/s640x640/116375189_746748629407304_102289454963169672_n.jpg?_nc_ht=scontent-gmp1-1.cdninstagram.com&_nc_cat=1&_nc_ohc=EC09D95vMIwAX_s1zXt&oh=4354cbf38a3fd9305c78ba7db57c8c33&oe=5F28DB97\n",
      "\n",
      "https://www.instagram.com//p/CDQUlq3JiT7/\n",
      "https://scontent-gmp1-1.cdninstagram.com/v/t51.2885-15/sh0.08/e35/c94.0.1080.1080a/s640x640/115992996_291073775457534_3483287473590989714_n.jpg?_nc_ht=scontent-gmp1-1.cdninstagram.com&_nc_cat=106&_nc_ohc=g84clhwSl1sAX9HWsIP&oh=c45898703b5858b247d80cc8a7633f01&oe=5F4FA6C3\n",
      "\n",
      "https://www.instagram.com//p/CDWBmGvDxHU/\n",
      "https://scontent-gmp1-1.cdninstagram.com/v/t51.2885-15/sh0.08/e35/s640x640/116252913_622840731947761_6994056466750873473_n.jpg?_nc_ht=scontent-gmp1-1.cdninstagram.com&_nc_cat=1&_nc_ohc=MKfdLkADciwAX8kutBj&oh=50c94e408ac0e09c2f48a6aaa125547c&oe=5F28E2BA\n",
      "\n",
      "https://www.instagram.com//p/CDYGw6TpD23/\n",
      "https://scontent-gmp1-1.cdninstagram.com/v/t51.2885-15/sh0.08/e35/c0.90.720.720a/s640x640/116829568_3456315927733910_1563296736625161684_n.jpg?_nc_ht=scontent-gmp1-1.cdninstagram.com&_nc_cat=102&_nc_ohc=uaGV1Was4zAAX-EDqUX&oh=919f883e439c86a91fe02f3760e15c3d&oe=5F28DE9E\n",
      "\n",
      "https://www.instagram.com//p/CDU2oSMp34f/\n",
      "https://scontent-gmp1-1.cdninstagram.com/v/t51.2885-15/e35/c157.0.405.405a/116942721_902050866988927_5322253690406958939_n.jpg?_nc_ht=scontent-gmp1-1.cdninstagram.com&_nc_cat=1&_nc_ohc=1osViLtwlwsAX_Abv3m&oh=1eac9480e563051a9772de8e467fa0c3&oe=5F2957E1\n",
      "\n",
      "https://www.instagram.com//p/CDTdnCJFu1p/\n",
      "https://scontent-gmp1-1.cdninstagram.com/v/t51.2885-15/sh0.08/e35/s640x640/116729797_291189922204740_8382098810698949511_n.jpg?_nc_ht=scontent-gmp1-1.cdninstagram.com&_nc_cat=100&_nc_ohc=BMoqfXAs55QAX9aIjSc&oh=ab4977df07212f34787d565283cdc506&oe=5F291723\n",
      "\n",
      "https://www.instagram.com//p/CDY0q3OpUyj/\n",
      "https://scontent-gmp1-1.cdninstagram.com/v/t51.2885-15/sh0.08/e35/c0.3.756.756a/s640x640/116707106_164502491820153_7083819159478050490_n.jpg?_nc_ht=scontent-gmp1-1.cdninstagram.com&_nc_cat=109&_nc_ohc=gorCbR5k9H0AX8_ewpG&oh=fed94a0ef676f2e011e25369afafb755&oe=5F4E56F7\n",
      "\n",
      "https://www.instagram.com//p/CDY0gNTJExL/\n",
      "https://scontent-gmp1-1.cdninstagram.com/v/t51.2885-15/e15/c0.238.612.612a/116780035_344642113599749_3767915276439835302_n.jpg?_nc_ht=scontent-gmp1-1.cdninstagram.com&_nc_cat=105&_nc_ohc=2HsbPWnPizEAX-pckaB&oh=c2e645ab38ff6369560d2dc70344fb29&oe=5F28F8E1\n",
      "\n",
      "https://www.instagram.com//p/CDY0evtJh0T/\n",
      "https://scontent-gmp1-1.cdninstagram.com/v/t51.2885-15/sh0.08/e35/s640x640/117089972_170327468067790_4089694066241910541_n.jpg?_nc_ht=scontent-gmp1-1.cdninstagram.com&_nc_cat=110&_nc_ohc=eIhNZEeX29oAX9HRfOK&oh=f984873681ea073383c3601c325f6189&oe=5F51F70A\n",
      "\n",
      "https://www.instagram.com//p/CDY0GATpRuE/\n",
      "https://scontent-gmp1-1.cdninstagram.com/v/t51.2885-15/sh0.08/e35/s640x640/117128872_382015696100869_8725380189095236309_n.jpg?_nc_ht=scontent-gmp1-1.cdninstagram.com&_nc_cat=101&_nc_ohc=gVQzgnez6BUAX-4rLcc&oh=88f2932a4ae60aafade76da0037673e6&oe=5F5178CF\n",
      "\n",
      "https://www.instagram.com//p/CDY0BAQpLG0/\n",
      "https://scontent-gmp1-1.cdninstagram.com/v/t51.2885-15/sh0.08/e35/s640x640/117222384_728845517680841_1154853305325923684_n.jpg?_nc_ht=scontent-gmp1-1.cdninstagram.com&_nc_cat=105&_nc_ohc=YNa7xin6AOoAX9OLAaH&oh=05b14cadf3ab73c8f90170bc59ac8d4a&oe=5F4F8489\n",
      "\n",
      "https://www.instagram.com//p/CDYz_uFMrXu/\n",
      "https://scontent-gmp1-1.cdninstagram.com/v/t51.2885-15/sh0.08/e35/s640x640/116908871_922834541548281_8530312721998790852_n.jpg?_nc_ht=scontent-gmp1-1.cdninstagram.com&_nc_cat=109&_nc_ohc=uIGgnHJAL1MAX8Lor-H&oh=93334bc11fc6b285b7e3fad5534c9ced&oe=5F50FF03\n",
      "\n",
      "https://www.instagram.com//p/CDYz3_xlX1c/\n",
      "https://scontent-gmp1-1.cdninstagram.com/v/t51.2885-15/sh0.08/e35/s640x640/116426683_947915022344707_9184280470670129145_n.jpg?_nc_ht=scontent-gmp1-1.cdninstagram.com&_nc_cat=107&_nc_ohc=QQZgB5kBEMkAX9AscvO&oh=a914829f74ce8e29b934bf94866e45ec&oe=5F4F5751\n",
      "\n",
      "https://www.instagram.com//p/CDYzxwpATUZ/\n",
      "https://scontent-gmp1-1.cdninstagram.com/v/t51.2885-15/sh0.08/e35/s640x640/116791528_116733776592523_8116676501570083156_n.jpg?_nc_ht=scontent-gmp1-1.cdninstagram.com&_nc_cat=107&_nc_ohc=VB5cuAZ7X5EAX_uhk3x&oh=fe19787d5b8827a7baeb0dbb118f1856&oe=5F4F12D4\n",
      "\n",
      "https://www.instagram.com//p/CDYzpmDpcLl/\n",
      "https://scontent-gmp1-1.cdninstagram.com/v/t51.2885-15/e35/c157.0.406.406a/116369049_320258749016393_7578305863980051167_n.jpg?_nc_ht=scontent-gmp1-1.cdninstagram.com&_nc_cat=105&_nc_ohc=596zmYHSnGwAX_cKbPt&oh=9b1737990c4e65ae4eeb5340d16e3939&oe=5F295035\n",
      "\n",
      "https://www.instagram.com//p/CDYzrLjjmPT/\n",
      "https://scontent-gmp1-1.cdninstagram.com/v/t51.2885-15/e35/c85.0.470.470a/116861169_2379687215670941_880323177727088083_n.jpg?_nc_ht=scontent-gmp1-1.cdninstagram.com&_nc_cat=105&_nc_ohc=awltWPPFQOgAX-0EahL&oh=becc00c0e6cbcda2a334b21b2f03f47b&oe=5F28D297\n",
      "\n",
      "https://www.instagram.com//p/CDYzcvGlt_1/\n",
      "https://scontent-gmp1-1.cdninstagram.com/v/t51.2885-15/sh0.08/e35/s640x640/116617495_715249185707821_3369803578254139591_n.jpg?_nc_ht=scontent-gmp1-1.cdninstagram.com&_nc_cat=101&_nc_ohc=9dm3Vcud--IAX9No9zT&oh=6bb933d5ce13f74f47a642f6706c2b67&oe=5F2921D7\n",
      "\n",
      "https://www.instagram.com//p/CDYzWoTBWfF/\n",
      "https://scontent-gmp1-1.cdninstagram.com/v/t51.2885-15/sh0.08/e35/c0.135.1080.1080a/s640x640/116422909_1445045929022603_3797718179332276367_n.jpg?_nc_ht=scontent-gmp1-1.cdninstagram.com&_nc_cat=111&_nc_ohc=Ye-oqPvl0lcAX8xFALY&oh=70402c0403cd1a69fd7424faeb316285&oe=5F5171AD\n",
      "\n"
     ]
    }
   ],
   "source": [
    "from urllib.request import urlopen\n",
    "#검색어 부분을 한글,아스키,영어가 잘 호환되게 바꿔줌\n",
    "from urllib.parse import quote_plus\n",
    "from bs4 import BeautifulSoup\n",
    "#인스타그램은 자바스크립트로 작성되어 있기 때문에, beautifulsoup만 가지고는 크롤링 불가능\n",
    "#-> webdriver 사용\n",
    "from selenium import webdriver\n",
    "import time \n",
    "\n",
    "baseUrl = 'https://www.instagram.com/explore/tags/'\n",
    "plusUrl = input(\"검색할 태그를 입력하세요 : \")\n",
    "#plusUrl 부분을 아스키 코드 값으로 변환해줌\n",
    "url = baseUrl + quote_plus(plusUrl)\n",
    "\n",
    "driver = webdriver.Chrome()\n",
    "driver.get(url)\n",
    "\n",
    "time.sleep(3)\n",
    "\n",
    "html = driver.page_source\n",
    "soup = BeautifulSoup(html)\n",
    "\n",
    "insta = soup.select('.v1Nh3.kIKUG._bz0w')\n",
    "\n",
    "n = 1\n",
    "for i in insta:\n",
    "    print('https://www.instagram.com/' + i.a['href'])\n",
    "    #'KL4Bh 태그 중 img 태그 중 src값만 가져오기'\n",
    "    imgUrl = i.select_one('.KL4Bh').img['src']\n",
    "    with urlopen(imgUrl) as f:\n",
    "        with open('./img/' + plusUrl + str(n) + '.jpg', 'wb') as h:\n",
    "            img = f.read()\n",
    "            h.write(img)\n",
    "    n += 1\n",
    "    print(imgUrl)\n",
    "    print()\n",
    "    \n",
    "driver.close()"
   ]
  },
  {
   "cell_type": "code",
   "execution_count": 13,
   "metadata": {},
   "outputs": [],
   "source": [
    "#구글 검색어 가져오기"
   ]
  },
  {
   "cell_type": "code",
   "execution_count": null,
   "metadata": {},
   "outputs": [],
   "source": [
    "from urllib"
   ]
  }
 ],
 "metadata": {
  "kernelspec": {
   "display_name": "Python 3",
   "language": "python",
   "name": "python3"
  },
  "language_info": {
   "codemirror_mode": {
    "name": "ipython",
    "version": 3
   },
   "file_extension": ".py",
   "mimetype": "text/x-python",
   "name": "python",
   "nbconvert_exporter": "python",
   "pygments_lexer": "ipython3",
   "version": "3.7.4"
  }
 },
 "nbformat": 4,
 "nbformat_minor": 2
}
