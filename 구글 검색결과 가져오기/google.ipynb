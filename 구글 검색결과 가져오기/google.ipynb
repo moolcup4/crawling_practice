{
 "cells": [
  {
   "cell_type": "code",
   "execution_count": 1,
   "metadata": {},
   "outputs": [
    {
     "name": "stdout",
     "output_type": "stream",
     "text": [
      "무엇을 검색할까요? : 아이유\n",
      "아이유 - 나무위키\n",
      "https://namu.wiki/w/%EC%95%84%EC%9D%B4%EC%9C%A0\n",
      "\n",
      "아이유 - 위키백과, 우리 모두의 백과사전\n",
      "https://ko.wikipedia.org/wiki/%EC%95%84%EC%9D%B4%EC%9C%A0\n",
      "\n",
      "[MV] IU(아이유) _ Blueming(블루밍) - YouTube\n",
      "https://www.youtube.com/watch?v=D1PvIWdJ8xo\n",
      "\n",
      "[MV] IU(아이유) _ Into the I-LAND - YouTube\n",
      "https://www.youtube.com/watch?v=QYNwbZHmh8g\n",
      "\n",
      "IU(아이유) 'Blueming(블루밍)' 라이브    (밴드ver ... - YouTube\n",
      "https://www.youtube.com/watch?v=yqtCGojXEpM&vl=ko\n",
      "\n",
      "지친 하루의 피곤을 녹여주는 아이유 노래 모음 ( IU - Best 20 ...\n",
      "https://www.youtube.com/watch?v=5jOwYkvIm8w\n",
      "\n",
      "[IU TV] 아이유 분노의 시승식! - YouTube\n",
      "https://www.youtube.com/watch?v=OBecbKbtcbI\n",
      "\n",
      "아이유(IU) - 벅스\n",
      "https://music.bugs.co.kr/artist/80049126\n",
      "\n",
      "아이유(IU) - Home | Facebook\n",
      "https://www.facebook.com/iu.loen/\n",
      "\n",
      "데뷔 10주년 너무 일찍 다 알아버린, 스물다섯 아이유 - TOPClass\n",
      "https://topclass.chosun.com/board/view.asp?catecode=I&tnu=201812100000\n",
      "\n"
     ]
    }
   ],
   "source": [
    "from urllib.parse import quote_plus\n",
    "from bs4 import BeautifulSoup\n",
    "from selenium import webdriver\n",
    "\n",
    "baseUrl = 'https://www.google.com/search?q='\n",
    "plusUrl = input(\"무엇을 검색할까요? : \")\n",
    "url = baseUrl + quote_plus(plusUrl)\n",
    "\n",
    "driver = webdriver.Chrome()\n",
    "#주어진 url로 driver(크롬 페이지)를 연다\n",
    "driver.get(url)\n",
    "\n",
    "#열린 페이지 정보를 받는다.\n",
    "html = driver.page_source\n",
    "soup = BeautifulSoup(html, \"html.parser\")\n",
    "\n",
    "r = soup.select('.r')\n",
    "for i in r:\n",
    "    print(i.select_one('.LC20lb.DKV0Md').text)\n",
    "    print(i.a.attrs['href'])\n",
    "    print()\n",
    "\n",
    "driver.close()"
   ]
  }
 ],
 "metadata": {
  "kernelspec": {
   "display_name": "Python 3",
   "language": "python",
   "name": "python3"
  },
  "language_info": {
   "codemirror_mode": {
    "name": "ipython",
    "version": 3
   },
   "file_extension": ".py",
   "mimetype": "text/x-python",
   "name": "python",
   "nbconvert_exporter": "python",
   "pygments_lexer": "ipython3",
   "version": "3.7.4"
  }
 },
 "nbformat": 4,
 "nbformat_minor": 2
}
