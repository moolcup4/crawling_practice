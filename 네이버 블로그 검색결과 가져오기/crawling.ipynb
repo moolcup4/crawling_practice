{
 "cells": [
  {
   "cell_type": "code",
   "execution_count": 8,
   "metadata": {},
   "outputs": [],
   "source": [
    "# 네이버 블로그 검색결과 가져오기"
   ]
  },
  {
   "cell_type": "code",
   "execution_count": 9,
   "metadata": {},
   "outputs": [
    {
     "name": "stdout",
     "output_type": "stream",
     "text": [
      "검색어를 입력하세요: 파이썬\n",
      "'파이썬'의 인기가 떨어지면 어떤 개발 언어가 뜨게 될까. - Wishket\n",
      "http://blog.wishket.com/%ED%8C%8C%EC%9D%B4%EC%8D%AC-%EC%9D%B8%EA%B8%B0%EA%B0%80-%EB%96%A8%EC%96%B4%EC%A7%80%EB%A9%B4-%EC%96%B4%EB%96%A4-%EA%B0%9C%EB%B0%9C-%EC%96%B8%EC%96%B4%EA%B0%80-%EB%9C%B0%EA%B9%8C/\n",
      "\n",
      "파이썬 설치 다운로드부터 해야겠죠?\n",
      "https://blog.naver.com/sweetk2ss?Redirect=Log&logNo=221954566322\n",
      "\n",
      "자바 파이썬 입문 언어 승자는?\n",
      "https://blog.naver.com/skh556?Redirect=Log&logNo=222038807263\n",
      "\n",
      "파이썬 학원 비교와 선택의 기준!\n",
      "https://blog.naver.com/likedelma?Redirect=Log&logNo=222043548217\n",
      "\n",
      "파이썬 학원 더 늦기 전에 도전!\n",
      "https://blog.naver.com/jcy0207?Redirect=Log&logNo=222038541815\n",
      "\n",
      "점프 투 파이썬으로 코딩 공부 시작하기\n",
      "https://blog.naver.com/thkimnguy?Redirect=Log&logNo=222016218489\n",
      "\n",
      "[진짜 코딩하며 배우는 파이썬] 편안한 환경에서 자유로운 생각이 나와요\n",
      "https://blog.naver.com/newdname?Redirect=Log&logNo=222048998346\n",
      "\n",
      "파이썬책 입문자와 전공자별로 구매합시다. 자격증은 비추\n",
      "https://blog.naver.com/therapy92?Redirect=Log&logNo=222047470232\n",
      "\n",
      "파이썬강의 여기서 한 번에 듣자\n",
      "https://blog.naver.com/skyktc?Redirect=Log&logNo=222040292217\n",
      "\n",
      "직장인이라면 꼭 알아야 할 기술, 업무자동화 (엑셀/VBA/파이썬)\n",
      "https://blog.naver.com/fastcampus?Redirect=Log&logNo=221924690201\n",
      "\n"
     ]
    }
   ],
   "source": [
    "import urllib.request\n",
    "import urllib.parse\n",
    "from bs4 import BeautifulSoup\n",
    "\n",
    "baseUrl = 'https://search.naver.com/search.naver?where=post&sm=tab_jum&query='\n",
    "plusUrl = input(\"검색어를 입력하세요: \")\n",
    "url = baseUrl + urllib.parse.quote_plus(plusUrl)\n",
    "\n",
    "html = urllib.request.urlopen(url).read()\n",
    "soup = BeautifulSoup(html, 'html.parser')\n",
    "\n",
    "#find는 결과 값 한 개 만 찾기, find_all 은 모두 찾기\n",
    "title = soup.find_all(class_='sh_blog_title')\n",
    "\n",
    "for i in title:\n",
    "    #(chrome 기준) F12를 눌러 속성 값 출력\n",
    "    print(i.attrs['title'])\n",
    "    print(i.attrs['href'])\n",
    "    print()\n"
   ]
  },
  {
   "cell_type": "code",
   "execution_count": null,
   "metadata": {},
   "outputs": [],
   "source": []
  }
 ],
 "metadata": {
  "kernelspec": {
   "display_name": "Python 3",
   "language": "python",
   "name": "python3"
  },
  "language_info": {
   "codemirror_mode": {
    "name": "ipython",
    "version": 3
   },
   "file_extension": ".py",
   "mimetype": "text/x-python",
   "name": "python",
   "nbconvert_exporter": "python",
   "pygments_lexer": "ipython3",
   "version": "3.7.4"
  }
 },
 "nbformat": 4,
 "nbformat_minor": 2
}
